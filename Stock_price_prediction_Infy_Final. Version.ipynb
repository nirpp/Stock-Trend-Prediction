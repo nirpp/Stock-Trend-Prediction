{
 "cells": [
  {
   "cell_type": "markdown",
   "metadata": {
    "colab_type": "text",
    "id": "view-in-github"
   },
   "source": [
    "<a href=\"https://colab.research.google.com/github/Abhishek-Sharma-02/Stock-Price-Prediction/blob/main/Stock_price_prediction_Infy_Final.ipynb\" target=\"_parent\"><img src=\"https://colab.research.google.com/assets/colab-badge.svg\" alt=\"Open In Colab\"/></a>"
   ]
  },
  {
   "cell_type": "code",
   "execution_count": 69,
   "metadata": {
    "id": "x25AySxMP2Eb"
   },
   "outputs": [],
   "source": [
    "# Import required package\n",
    "\n",
    "import pandas as pd\n",
    "import numpy as np\n",
    "\n",
    "# To plot within notebok\n",
    "\n",
    "import matplotlib.pyplot as plt\n",
    "%matplotlib inline\n",
    "\n",
    "# Setting figure size\n",
    "\n",
    "from matplotlib.pylab import rcParams\n",
    "rcParams['figure.figsize']=20,10\n",
    "\n",
    "# For normalising data\n",
    "\n",
    "from sklearn.preprocessing import MinMaxScaler\n",
    "scaler = MinMaxScaler(feature_range=(0,1))"
   ]
  },
  {
   "cell_type": "code",
   "execution_count": 70,
   "metadata": {
    "id": "-GYoJR8pP2El"
   },
   "outputs": [],
   "source": [
    "# Read the file\n",
    "\n",
    "df=pd.read_csv(\"/content/INFY NSQ.csv\")"
   ]
  },
  {
   "cell_type": "code",
   "execution_count": 71,
   "metadata": {
    "colab": {
     "base_uri": "https://localhost:8080/",
     "height": 204
    },
    "id": "dUbc5DfuP2Em",
    "outputId": "b9ad2567-656f-4c29-e148-0f7bda80d946"
   },
   "outputs": [
    {
     "data": {
      "text/html": [
       "<div>\n",
       "<style scoped>\n",
       "    .dataframe tbody tr th:only-of-type {\n",
       "        vertical-align: middle;\n",
       "    }\n",
       "\n",
       "    .dataframe tbody tr th {\n",
       "        vertical-align: top;\n",
       "    }\n",
       "\n",
       "    .dataframe thead th {\n",
       "        text-align: right;\n",
       "    }\n",
       "</style>\n",
       "<table border=\"1\" class=\"dataframe\">\n",
       "  <thead>\n",
       "    <tr style=\"text-align: right;\">\n",
       "      <th></th>\n",
       "      <th>Date</th>\n",
       "      <th>Open</th>\n",
       "      <th>High</th>\n",
       "      <th>Low</th>\n",
       "      <th>Close</th>\n",
       "      <th>Adj Close</th>\n",
       "      <th>Volume</th>\n",
       "    </tr>\n",
       "  </thead>\n",
       "  <tbody>\n",
       "    <tr>\n",
       "      <th>0</th>\n",
       "      <td>2001-01-02</td>\n",
       "      <td>2.878906</td>\n",
       "      <td>2.914063</td>\n",
       "      <td>2.710938</td>\n",
       "      <td>2.730469</td>\n",
       "      <td>1.688857</td>\n",
       "      <td>4483200</td>\n",
       "    </tr>\n",
       "    <tr>\n",
       "      <th>1</th>\n",
       "      <td>2001-01-03</td>\n",
       "      <td>2.705078</td>\n",
       "      <td>3.406250</td>\n",
       "      <td>2.691406</td>\n",
       "      <td>3.234375</td>\n",
       "      <td>2.000535</td>\n",
       "      <td>5856000</td>\n",
       "    </tr>\n",
       "    <tr>\n",
       "      <th>2</th>\n",
       "      <td>2001-01-04</td>\n",
       "      <td>3.193359</td>\n",
       "      <td>3.238281</td>\n",
       "      <td>3.031250</td>\n",
       "      <td>3.093750</td>\n",
       "      <td>1.913555</td>\n",
       "      <td>3811200</td>\n",
       "    </tr>\n",
       "    <tr>\n",
       "      <th>3</th>\n",
       "      <td>2001-01-05</td>\n",
       "      <td>3.148438</td>\n",
       "      <td>3.171875</td>\n",
       "      <td>2.937500</td>\n",
       "      <td>2.960938</td>\n",
       "      <td>1.831408</td>\n",
       "      <td>7414400</td>\n",
       "    </tr>\n",
       "    <tr>\n",
       "      <th>4</th>\n",
       "      <td>2001-01-08</td>\n",
       "      <td>2.953125</td>\n",
       "      <td>2.957031</td>\n",
       "      <td>2.767578</td>\n",
       "      <td>2.901855</td>\n",
       "      <td>1.794864</td>\n",
       "      <td>4326400</td>\n",
       "    </tr>\n",
       "  </tbody>\n",
       "</table>\n",
       "</div>"
      ],
      "text/plain": [
       "         Date      Open      High       Low     Close  Adj Close   Volume\n",
       "0  2001-01-02  2.878906  2.914063  2.710938  2.730469   1.688857  4483200\n",
       "1  2001-01-03  2.705078  3.406250  2.691406  3.234375   2.000535  5856000\n",
       "2  2001-01-04  3.193359  3.238281  3.031250  3.093750   1.913555  3811200\n",
       "3  2001-01-05  3.148438  3.171875  2.937500  2.960938   1.831408  7414400\n",
       "4  2001-01-08  2.953125  2.957031  2.767578  2.901855   1.794864  4326400"
      ]
     },
     "execution_count": 71,
     "metadata": {
      "tags": []
     },
     "output_type": "execute_result"
    }
   ],
   "source": [
    "# Print the head()\n",
    "df.head()"
   ]
  },
  {
   "cell_type": "code",
   "execution_count": 72,
   "metadata": {
    "colab": {
     "base_uri": "https://localhost:8080/",
     "height": 204
    },
    "id": "EawEx69WP2Eo",
    "outputId": "960a3b72-e02a-4496-d965-91f6f021bec2"
   },
   "outputs": [
    {
     "data": {
      "text/html": [
       "<div>\n",
       "<style scoped>\n",
       "    .dataframe tbody tr th:only-of-type {\n",
       "        vertical-align: middle;\n",
       "    }\n",
       "\n",
       "    .dataframe tbody tr th {\n",
       "        vertical-align: top;\n",
       "    }\n",
       "\n",
       "    .dataframe thead th {\n",
       "        text-align: right;\n",
       "    }\n",
       "</style>\n",
       "<table border=\"1\" class=\"dataframe\">\n",
       "  <thead>\n",
       "    <tr style=\"text-align: right;\">\n",
       "      <th></th>\n",
       "      <th>Date</th>\n",
       "      <th>Open</th>\n",
       "      <th>High</th>\n",
       "      <th>Low</th>\n",
       "      <th>Close</th>\n",
       "      <th>Adj Close</th>\n",
       "      <th>Volume</th>\n",
       "    </tr>\n",
       "  </thead>\n",
       "  <tbody>\n",
       "    <tr>\n",
       "      <th>5038</th>\n",
       "      <td>2021-01-12</td>\n",
       "      <td>18.920000</td>\n",
       "      <td>18.940001</td>\n",
       "      <td>18.540001</td>\n",
       "      <td>18.600000</td>\n",
       "      <td>18.600000</td>\n",
       "      <td>10629100</td>\n",
       "    </tr>\n",
       "    <tr>\n",
       "      <th>5039</th>\n",
       "      <td>2021-01-13</td>\n",
       "      <td>19.030001</td>\n",
       "      <td>19.070000</td>\n",
       "      <td>18.400000</td>\n",
       "      <td>18.430000</td>\n",
       "      <td>18.430000</td>\n",
       "      <td>18409900</td>\n",
       "    </tr>\n",
       "    <tr>\n",
       "      <th>5040</th>\n",
       "      <td>2021-01-14</td>\n",
       "      <td>18.570000</td>\n",
       "      <td>18.650000</td>\n",
       "      <td>18.139999</td>\n",
       "      <td>18.219999</td>\n",
       "      <td>18.219999</td>\n",
       "      <td>13286100</td>\n",
       "    </tr>\n",
       "    <tr>\n",
       "      <th>5041</th>\n",
       "      <td>2021-01-15</td>\n",
       "      <td>18.190001</td>\n",
       "      <td>18.379999</td>\n",
       "      <td>18.110001</td>\n",
       "      <td>18.170000</td>\n",
       "      <td>18.170000</td>\n",
       "      <td>7443000</td>\n",
       "    </tr>\n",
       "    <tr>\n",
       "      <th>5042</th>\n",
       "      <td>2021-01-19</td>\n",
       "      <td>18.080000</td>\n",
       "      <td>18.180000</td>\n",
       "      <td>17.950001</td>\n",
       "      <td>18.120001</td>\n",
       "      <td>18.120001</td>\n",
       "      <td>7177800</td>\n",
       "    </tr>\n",
       "  </tbody>\n",
       "</table>\n",
       "</div>"
      ],
      "text/plain": [
       "            Date       Open       High  ...      Close  Adj Close    Volume\n",
       "5038  2021-01-12  18.920000  18.940001  ...  18.600000  18.600000  10629100\n",
       "5039  2021-01-13  19.030001  19.070000  ...  18.430000  18.430000  18409900\n",
       "5040  2021-01-14  18.570000  18.650000  ...  18.219999  18.219999  13286100\n",
       "5041  2021-01-15  18.190001  18.379999  ...  18.170000  18.170000   7443000\n",
       "5042  2021-01-19  18.080000  18.180000  ...  18.120001  18.120001   7177800\n",
       "\n",
       "[5 rows x 7 columns]"
      ]
     },
     "execution_count": 72,
     "metadata": {
      "tags": []
     },
     "output_type": "execute_result"
    }
   ],
   "source": [
    "df.tail()"
   ]
  },
  {
   "cell_type": "code",
   "execution_count": 73,
   "metadata": {
    "colab": {
     "base_uri": "https://localhost:8080/",
     "height": 297
    },
    "id": "P1ixauuJP2Eo",
    "outputId": "04d37e5a-4a79-451c-8c46-d9396013e31f"
   },
   "outputs": [
    {
     "data": {
      "text/html": [
       "<div>\n",
       "<style scoped>\n",
       "    .dataframe tbody tr th:only-of-type {\n",
       "        vertical-align: middle;\n",
       "    }\n",
       "\n",
       "    .dataframe tbody tr th {\n",
       "        vertical-align: top;\n",
       "    }\n",
       "\n",
       "    .dataframe thead th {\n",
       "        text-align: right;\n",
       "    }\n",
       "</style>\n",
       "<table border=\"1\" class=\"dataframe\">\n",
       "  <thead>\n",
       "    <tr style=\"text-align: right;\">\n",
       "      <th></th>\n",
       "      <th>Open</th>\n",
       "      <th>High</th>\n",
       "      <th>Low</th>\n",
       "      <th>Close</th>\n",
       "      <th>Adj Close</th>\n",
       "      <th>Volume</th>\n",
       "    </tr>\n",
       "  </thead>\n",
       "  <tbody>\n",
       "    <tr>\n",
       "      <th>count</th>\n",
       "      <td>5043.000000</td>\n",
       "      <td>5043.000000</td>\n",
       "      <td>5043.000000</td>\n",
       "      <td>5043.000000</td>\n",
       "      <td>5043.000000</td>\n",
       "      <td>5.043000e+03</td>\n",
       "    </tr>\n",
       "    <tr>\n",
       "      <th>mean</th>\n",
       "      <td>6.304855</td>\n",
       "      <td>6.372404</td>\n",
       "      <td>6.236890</td>\n",
       "      <td>6.306081</td>\n",
       "      <td>5.108656</td>\n",
       "      <td>1.229943e+07</td>\n",
       "    </tr>\n",
       "    <tr>\n",
       "      <th>std</th>\n",
       "      <td>2.915177</td>\n",
       "      <td>2.928047</td>\n",
       "      <td>2.902849</td>\n",
       "      <td>2.916358</td>\n",
       "      <td>3.002938</td>\n",
       "      <td>9.422713e+06</td>\n",
       "    </tr>\n",
       "    <tr>\n",
       "      <th>min</th>\n",
       "      <td>1.015937</td>\n",
       "      <td>1.070938</td>\n",
       "      <td>0.956250</td>\n",
       "      <td>1.031875</td>\n",
       "      <td>0.638959</td>\n",
       "      <td>3.360000e+05</td>\n",
       "    </tr>\n",
       "    <tr>\n",
       "      <th>25%</th>\n",
       "      <td>4.343750</td>\n",
       "      <td>4.395937</td>\n",
       "      <td>4.281562</td>\n",
       "      <td>4.339062</td>\n",
       "      <td>2.969807</td>\n",
       "      <td>6.634250e+06</td>\n",
       "    </tr>\n",
       "    <tr>\n",
       "      <th>50%</th>\n",
       "      <td>6.506250</td>\n",
       "      <td>6.575000</td>\n",
       "      <td>6.450000</td>\n",
       "      <td>6.511250</td>\n",
       "      <td>4.703772</td>\n",
       "      <td>1.009020e+07</td>\n",
       "    </tr>\n",
       "    <tr>\n",
       "      <th>75%</th>\n",
       "      <td>8.140000</td>\n",
       "      <td>8.200000</td>\n",
       "      <td>8.061250</td>\n",
       "      <td>8.133125</td>\n",
       "      <td>6.873258</td>\n",
       "      <td>1.529210e+07</td>\n",
       "    </tr>\n",
       "    <tr>\n",
       "      <th>max</th>\n",
       "      <td>19.030001</td>\n",
       "      <td>19.070000</td>\n",
       "      <td>18.549999</td>\n",
       "      <td>18.760000</td>\n",
       "      <td>18.760000</td>\n",
       "      <td>1.475912e+08</td>\n",
       "    </tr>\n",
       "  </tbody>\n",
       "</table>\n",
       "</div>"
      ],
      "text/plain": [
       "              Open         High  ...    Adj Close        Volume\n",
       "count  5043.000000  5043.000000  ...  5043.000000  5.043000e+03\n",
       "mean      6.304855     6.372404  ...     5.108656  1.229943e+07\n",
       "std       2.915177     2.928047  ...     3.002938  9.422713e+06\n",
       "min       1.015937     1.070938  ...     0.638959  3.360000e+05\n",
       "25%       4.343750     4.395937  ...     2.969807  6.634250e+06\n",
       "50%       6.506250     6.575000  ...     4.703772  1.009020e+07\n",
       "75%       8.140000     8.200000  ...     6.873258  1.529210e+07\n",
       "max      19.030001    19.070000  ...    18.760000  1.475912e+08\n",
       "\n",
       "[8 rows x 6 columns]"
      ]
     },
     "execution_count": 73,
     "metadata": {
      "tags": []
     },
     "output_type": "execute_result"
    }
   ],
   "source": [
    "df.describe()"
   ]
  },
  {
   "cell_type": "code",
   "execution_count": 74,
   "metadata": {
    "colab": {
     "base_uri": "https://localhost:8080/"
    },
    "id": "lRmZPtG8P2Ep",
    "outputId": "a755ec00-f1c6-4ca7-c70d-2cd03f4ab775"
   },
   "outputs": [
    {
     "data": {
      "text/plain": [
       "(5043, 7)"
      ]
     },
     "execution_count": 74,
     "metadata": {
      "tags": []
     },
     "output_type": "execute_result"
    }
   ],
   "source": [
    "df.shape"
   ]
  },
  {
   "cell_type": "code",
   "execution_count": 75,
   "metadata": {
    "colab": {
     "base_uri": "https://localhost:8080/"
    },
    "id": "n-8RfVVsP2Eq",
    "outputId": "f6f9e9a3-0b95-42a2-c129-ecc33624d7ce"
   },
   "outputs": [
    {
     "data": {
      "text/plain": [
       "Date         0\n",
       "Open         0\n",
       "High         0\n",
       "Low          0\n",
       "Close        0\n",
       "Adj Close    0\n",
       "Volume       0\n",
       "dtype: int64"
      ]
     },
     "execution_count": 75,
     "metadata": {
      "tags": []
     },
     "output_type": "execute_result"
    }
   ],
   "source": [
    "df.isnull().sum()"
   ]
  },
  {
   "cell_type": "code",
   "execution_count": 76,
   "metadata": {
    "colab": {
     "base_uri": "https://localhost:8080/"
    },
    "id": "xPrQvuhyP2Er",
    "outputId": "6d64dff2-01d5-4c44-8c64-c3b2e5bbffa6"
   },
   "outputs": [
    {
     "name": "stdout",
     "output_type": "stream",
     "text": [
      "            Date       Open       High  ...      Close  Adj Close    Volume\n",
      "0     2001-01-02   2.878906   2.914063  ...   2.730469   1.688857   4483200\n",
      "1     2001-01-03   2.705078   3.406250  ...   3.234375   2.000535   5856000\n",
      "2     2001-01-04   3.193359   3.238281  ...   3.093750   1.913555   3811200\n",
      "3     2001-01-05   3.148438   3.171875  ...   2.960938   1.831408   7414400\n",
      "4     2001-01-08   2.953125   2.957031  ...   2.901855   1.794864   4326400\n",
      "...          ...        ...        ...  ...        ...        ...       ...\n",
      "5038  2021-01-12  18.920000  18.940001  ...  18.600000  18.600000  10629100\n",
      "5039  2021-01-13  19.030001  19.070000  ...  18.430000  18.430000  18409900\n",
      "5040  2021-01-14  18.570000  18.650000  ...  18.219999  18.219999  13286100\n",
      "5041  2021-01-15  18.190001  18.379999  ...  18.170000  18.170000   7443000\n",
      "5042  2021-01-19  18.080000  18.180000  ...  18.120001  18.120001   7177800\n",
      "\n",
      "[5043 rows x 7 columns]\n"
     ]
    }
   ],
   "source": [
    "df1 = df.dropna()\n",
    "print(df1)"
   ]
  },
  {
   "cell_type": "code",
   "execution_count": 77,
   "metadata": {
    "colab": {
     "base_uri": "https://localhost:8080/"
    },
    "id": "JbwwSrgTP2Es",
    "outputId": "213ee689-df9e-44b4-8e99-51c02fb81f42"
   },
   "outputs": [
    {
     "data": {
      "text/plain": [
       "(5043, 7)"
      ]
     },
     "execution_count": 77,
     "metadata": {
      "tags": []
     },
     "output_type": "execute_result"
    }
   ],
   "source": [
    "df1.shape"
   ]
  },
  {
   "cell_type": "markdown",
   "metadata": {
    "id": "YSCGdjnYP2Es"
   },
   "source": [
    "There are multiple variables in the dataset – Date, Open, High, Low, Close, Adj Close and Volume.\n",
    "\n",
    "The columns Open and Close represent the starting and final price at which the stock is traded on a particular day.\n",
    "High and Low represent the maximum, minimum price of the share for the day.\n",
    "Volume is the number of shares bought or sold in the day \n"
   ]
  },
  {
   "cell_type": "code",
   "execution_count": 78,
   "metadata": {
    "id": "t_xbEp8uP2Et"
   },
   "outputs": [],
   "source": [
    "# Setting index as date\n",
    "\n",
    "df1['Date']=pd.to_datetime(df1.Date,format='%Y-%m-%d')\n",
    "df1.index = df1['Date']"
   ]
  },
  {
   "cell_type": "code",
   "execution_count": 79,
   "metadata": {
    "colab": {
     "base_uri": "https://localhost:8080/",
     "height": 500
    },
    "id": "ZyXezxp7P2Eu",
    "outputId": "3617fc22-9144-4ec4-fe3b-f11acca0bcee"
   },
   "outputs": [
    {
     "data": {
      "text/plain": [
       "[<matplotlib.lines.Line2D at 0x7f1aff639828>]"
      ]
     },
     "execution_count": 79,
     "metadata": {
      "tags": []
     },
     "output_type": "execute_result"
    },
    {
     "data": {
      "image/png": "[encoded data removed]",
      "text/plain": [
       "<Figure size 1152x576 with 1 Axes>"
      ]
     },
     "metadata": {
      "needs_background": "light",
      "tags": []
     },
     "output_type": "display_data"
    }
   ],
   "source": [
    "# PLot figure\n",
    "\n",
    "plt.figure(figsize = (16,8))\n",
    "plt.plot(df['Close'],label='Close Price History')"
   ]
  },
  {
   "cell_type": "code",
   "execution_count": 80,
   "metadata": {
    "colab": {
     "base_uri": "https://localhost:8080/",
     "height": 235
    },
    "id": "YipbZcDkP2Eu",
    "outputId": "32b6fc37-8d8b-4ccf-a647-34e7564b0c98"
   },
   "outputs": [
    {
     "data": {
      "text/html": [
       "<div>\n",
       "<style scoped>\n",
       "    .dataframe tbody tr th:only-of-type {\n",
       "        vertical-align: middle;\n",
       "    }\n",
       "\n",
       "    .dataframe tbody tr th {\n",
       "        vertical-align: top;\n",
       "    }\n",
       "\n",
       "    .dataframe thead th {\n",
       "        text-align: right;\n",
       "    }\n",
       "</style>\n",
       "<table border=\"1\" class=\"dataframe\">\n",
       "  <thead>\n",
       "    <tr style=\"text-align: right;\">\n",
       "      <th></th>\n",
       "      <th>Date</th>\n",
       "      <th>Open</th>\n",
       "      <th>High</th>\n",
       "      <th>Low</th>\n",
       "      <th>Close</th>\n",
       "      <th>Adj Close</th>\n",
       "      <th>Volume</th>\n",
       "    </tr>\n",
       "    <tr>\n",
       "      <th>Date</th>\n",
       "      <th></th>\n",
       "      <th></th>\n",
       "      <th></th>\n",
       "      <th></th>\n",
       "      <th></th>\n",
       "      <th></th>\n",
       "      <th></th>\n",
       "    </tr>\n",
       "  </thead>\n",
       "  <tbody>\n",
       "    <tr>\n",
       "      <th>2001-01-02</th>\n",
       "      <td>2001-01-02</td>\n",
       "      <td>2.878906</td>\n",
       "      <td>2.914063</td>\n",
       "      <td>2.710938</td>\n",
       "      <td>2.730469</td>\n",
       "      <td>1.688857</td>\n",
       "      <td>4483200</td>\n",
       "    </tr>\n",
       "    <tr>\n",
       "      <th>2001-01-03</th>\n",
       "      <td>2001-01-03</td>\n",
       "      <td>2.705078</td>\n",
       "      <td>3.406250</td>\n",
       "      <td>2.691406</td>\n",
       "      <td>3.234375</td>\n",
       "      <td>2.000535</td>\n",
       "      <td>5856000</td>\n",
       "    </tr>\n",
       "    <tr>\n",
       "      <th>2001-01-04</th>\n",
       "      <td>2001-01-04</td>\n",
       "      <td>3.193359</td>\n",
       "      <td>3.238281</td>\n",
       "      <td>3.031250</td>\n",
       "      <td>3.093750</td>\n",
       "      <td>1.913555</td>\n",
       "      <td>3811200</td>\n",
       "    </tr>\n",
       "    <tr>\n",
       "      <th>2001-01-05</th>\n",
       "      <td>2001-01-05</td>\n",
       "      <td>3.148438</td>\n",
       "      <td>3.171875</td>\n",
       "      <td>2.937500</td>\n",
       "      <td>2.960938</td>\n",
       "      <td>1.831408</td>\n",
       "      <td>7414400</td>\n",
       "    </tr>\n",
       "    <tr>\n",
       "      <th>2001-01-08</th>\n",
       "      <td>2001-01-08</td>\n",
       "      <td>2.953125</td>\n",
       "      <td>2.957031</td>\n",
       "      <td>2.767578</td>\n",
       "      <td>2.901855</td>\n",
       "      <td>1.794864</td>\n",
       "      <td>4326400</td>\n",
       "    </tr>\n",
       "  </tbody>\n",
       "</table>\n",
       "</div>"
      ],
      "text/plain": [
       "                 Date      Open      High  ...     Close  Adj Close   Volume\n",
       "Date                                       ...                              \n",
       "2001-01-02 2001-01-02  2.878906  2.914063  ...  2.730469   1.688857  4483200\n",
       "2001-01-03 2001-01-03  2.705078  3.406250  ...  3.234375   2.000535  5856000\n",
       "2001-01-04 2001-01-04  3.193359  3.238281  ...  3.093750   1.913555  3811200\n",
       "2001-01-05 2001-01-05  3.148438  3.171875  ...  2.960938   1.831408  7414400\n",
       "2001-01-08 2001-01-08  2.953125  2.957031  ...  2.901855   1.794864  4326400\n",
       "\n",
       "[5 rows x 7 columns]"
      ]
     },
     "execution_count": 80,
     "metadata": {
      "tags": []
     },
     "output_type": "execute_result"
    }
   ],
   "source": [
    "df1.head() # Query - Why getting dates twice\n",
    "           # First date is index, second date is column data"
   ]
  },
  {
   "cell_type": "code",
   "execution_count": 81,
   "metadata": {
    "colab": {
     "base_uri": "https://localhost:8080/"
    },
    "id": "Y6LNsdwWP2Ev",
    "outputId": "cf8e27fc-622d-490f-a289-1b68edb0c5c4"
   },
   "outputs": [
    {
     "data": {
      "text/plain": [
       "(5043, 7)"
      ]
     },
     "execution_count": 81,
     "metadata": {
      "tags": []
     },
     "output_type": "execute_result"
    }
   ],
   "source": [
    "df1.shape"
   ]
  },
  {
   "cell_type": "code",
   "execution_count": 82,
   "metadata": {
    "id": "t-3fvaumP2Ev"
   },
   "outputs": [],
   "source": [
    "# Setting the Index as date\n",
    "df1['Date'] = pd.to_datetime(df1.Date,format='%d-%m-%Y')\n",
    "df1.index = df1['Date']"
   ]
  },
  {
   "cell_type": "code",
   "execution_count": 83,
   "metadata": {
    "colab": {
     "base_uri": "https://localhost:8080/",
     "height": 235
    },
    "id": "-5juje_aP2Ev",
    "outputId": "658a8fd0-6333-4b28-c09f-57560ca0475c"
   },
   "outputs": [
    {
     "data": {
      "text/html": [
       "<div>\n",
       "<style scoped>\n",
       "    .dataframe tbody tr th:only-of-type {\n",
       "        vertical-align: middle;\n",
       "    }\n",
       "\n",
       "    .dataframe tbody tr th {\n",
       "        vertical-align: top;\n",
       "    }\n",
       "\n",
       "    .dataframe thead th {\n",
       "        text-align: right;\n",
       "    }\n",
       "</style>\n",
       "<table border=\"1\" class=\"dataframe\">\n",
       "  <thead>\n",
       "    <tr style=\"text-align: right;\">\n",
       "      <th></th>\n",
       "      <th>Date</th>\n",
       "      <th>Open</th>\n",
       "      <th>High</th>\n",
       "      <th>Low</th>\n",
       "      <th>Close</th>\n",
       "      <th>Adj Close</th>\n",
       "      <th>Volume</th>\n",
       "    </tr>\n",
       "    <tr>\n",
       "      <th>Date</th>\n",
       "      <th></th>\n",
       "      <th></th>\n",
       "      <th></th>\n",
       "      <th></th>\n",
       "      <th></th>\n",
       "      <th></th>\n",
       "      <th></th>\n",
       "    </tr>\n",
       "  </thead>\n",
       "  <tbody>\n",
       "    <tr>\n",
       "      <th>2001-01-02</th>\n",
       "      <td>2001-01-02</td>\n",
       "      <td>2.878906</td>\n",
       "      <td>2.914063</td>\n",
       "      <td>2.710938</td>\n",
       "      <td>2.730469</td>\n",
       "      <td>1.688857</td>\n",
       "      <td>4483200</td>\n",
       "    </tr>\n",
       "    <tr>\n",
       "      <th>2001-01-03</th>\n",
       "      <td>2001-01-03</td>\n",
       "      <td>2.705078</td>\n",
       "      <td>3.406250</td>\n",
       "      <td>2.691406</td>\n",
       "      <td>3.234375</td>\n",
       "      <td>2.000535</td>\n",
       "      <td>5856000</td>\n",
       "    </tr>\n",
       "    <tr>\n",
       "      <th>2001-01-04</th>\n",
       "      <td>2001-01-04</td>\n",
       "      <td>3.193359</td>\n",
       "      <td>3.238281</td>\n",
       "      <td>3.031250</td>\n",
       "      <td>3.093750</td>\n",
       "      <td>1.913555</td>\n",
       "      <td>3811200</td>\n",
       "    </tr>\n",
       "    <tr>\n",
       "      <th>2001-01-05</th>\n",
       "      <td>2001-01-05</td>\n",
       "      <td>3.148438</td>\n",
       "      <td>3.171875</td>\n",
       "      <td>2.937500</td>\n",
       "      <td>2.960938</td>\n",
       "      <td>1.831408</td>\n",
       "      <td>7414400</td>\n",
       "    </tr>\n",
       "    <tr>\n",
       "      <th>2001-01-08</th>\n",
       "      <td>2001-01-08</td>\n",
       "      <td>2.953125</td>\n",
       "      <td>2.957031</td>\n",
       "      <td>2.767578</td>\n",
       "      <td>2.901855</td>\n",
       "      <td>1.794864</td>\n",
       "      <td>4326400</td>\n",
       "    </tr>\n",
       "  </tbody>\n",
       "</table>\n",
       "</div>"
      ],
      "text/plain": [
       "                 Date      Open      High  ...     Close  Adj Close   Volume\n",
       "Date                                       ...                              \n",
       "2001-01-02 2001-01-02  2.878906  2.914063  ...  2.730469   1.688857  4483200\n",
       "2001-01-03 2001-01-03  2.705078  3.406250  ...  3.234375   2.000535  5856000\n",
       "2001-01-04 2001-01-04  3.193359  3.238281  ...  3.093750   1.913555  3811200\n",
       "2001-01-05 2001-01-05  3.148438  3.171875  ...  2.960938   1.831408  7414400\n",
       "2001-01-08 2001-01-08  2.953125  2.957031  ...  2.901855   1.794864  4326400\n",
       "\n",
       "[5 rows x 7 columns]"
      ]
     },
     "execution_count": 83,
     "metadata": {
      "tags": []
     },
     "output_type": "execute_result"
    }
   ],
   "source": [
    "df1.head()"
   ]
  },
  {
   "cell_type": "code",
   "execution_count": 84,
   "metadata": {
    "id": "Y2JH6oP6P2Ew"
   },
   "outputs": [],
   "source": [
    "#creating dataframe with date and the target variable\n",
    "data = df1.sort_index(ascending=True, axis=0)\n",
    "new_data = pd.DataFrame(index=range(0,len(df1)),columns=['Date', 'Close'])"
   ]
  },
  {
   "cell_type": "code",
   "execution_count": 85,
   "metadata": {
    "id": "2WeLrAaYP2Ex"
   },
   "outputs": [],
   "source": [
    "for i in range(0,len(data)):\n",
    "    new_data['Date'][i]= data['Date'][i]\n",
    "    new_data['Close'][i]= data['Close'][i]"
   ]
  },
  {
   "cell_type": "code",
   "execution_count": 86,
   "metadata": {
    "colab": {
     "base_uri": "https://localhost:8080/",
     "height": 204
    },
    "id": "F3Lv1ZUdP2Ex",
    "outputId": "90c303a4-de48-4f80-e46e-111241bfb871"
   },
   "outputs": [
    {
     "data": {
      "text/html": [
       "<div>\n",
       "<style scoped>\n",
       "    .dataframe tbody tr th:only-of-type {\n",
       "        vertical-align: middle;\n",
       "    }\n",
       "\n",
       "    .dataframe tbody tr th {\n",
       "        vertical-align: top;\n",
       "    }\n",
       "\n",
       "    .dataframe thead th {\n",
       "        text-align: right;\n",
       "    }\n",
       "</style>\n",
       "<table border=\"1\" class=\"dataframe\">\n",
       "  <thead>\n",
       "    <tr style=\"text-align: right;\">\n",
       "      <th></th>\n",
       "      <th>Date</th>\n",
       "      <th>Close</th>\n",
       "    </tr>\n",
       "  </thead>\n",
       "  <tbody>\n",
       "    <tr>\n",
       "      <th>0</th>\n",
       "      <td>2001-01-02 00:00:00</td>\n",
       "      <td>2.73047</td>\n",
       "    </tr>\n",
       "    <tr>\n",
       "      <th>1</th>\n",
       "      <td>2001-01-03 00:00:00</td>\n",
       "      <td>3.23438</td>\n",
       "    </tr>\n",
       "    <tr>\n",
       "      <th>2</th>\n",
       "      <td>2001-01-04 00:00:00</td>\n",
       "      <td>3.09375</td>\n",
       "    </tr>\n",
       "    <tr>\n",
       "      <th>3</th>\n",
       "      <td>2001-01-05 00:00:00</td>\n",
       "      <td>2.96094</td>\n",
       "    </tr>\n",
       "    <tr>\n",
       "      <th>4</th>\n",
       "      <td>2001-01-08 00:00:00</td>\n",
       "      <td>2.90185</td>\n",
       "    </tr>\n",
       "  </tbody>\n",
       "</table>\n",
       "</div>"
      ],
      "text/plain": [
       "                  Date    Close\n",
       "0  2001-01-02 00:00:00  2.73047\n",
       "1  2001-01-03 00:00:00  3.23438\n",
       "2  2001-01-04 00:00:00  3.09375\n",
       "3  2001-01-05 00:00:00  2.96094\n",
       "4  2001-01-08 00:00:00  2.90185"
      ]
     },
     "execution_count": 86,
     "metadata": {
      "tags": []
     },
     "output_type": "execute_result"
    }
   ],
   "source": [
    "new_data.head()"
   ]
  },
  {
   "cell_type": "code",
   "execution_count": 87,
   "metadata": {
    "id": "g_Ny9LR8P2Ex"
   },
   "outputs": [],
   "source": [
    "train_len = round(0.8 * new_data.shape[0])"
   ]
  },
  {
   "cell_type": "code",
   "execution_count": 88,
   "metadata": {
    "id": "BC6kSUj5P2Ey"
   },
   "outputs": [],
   "source": [
    "# NOTE: While splitting the data into train and validation set,\n",
    "#we cannot use random splitting since that will destroy the time component.\n",
    "# So here we have set the 20% data into test and the 80% data into train set.\n",
    "\n",
    "# splitting into train and test\n",
    "train = new_data[:train_len]\n",
    "test = new_data[train_len:]"
   ]
  },
  {
   "cell_type": "code",
   "execution_count": 89,
   "metadata": {
    "colab": {
     "base_uri": "https://localhost:8080/"
    },
    "id": "hHlNdFA5P2Ey",
    "outputId": "b7973ad5-8093-4192-a571-284ebf52247a"
   },
   "outputs": [
    {
     "name": "stdout",
     "output_type": "stream",
     "text": [
      "\n",
      " Shape of training data\n",
      "(4034, 2)\n"
     ]
    }
   ],
   "source": [
    "#Shape of training set\n",
    "print('\\n Shape of training data')\n",
    "print(train.shape)"
   ]
  },
  {
   "cell_type": "code",
   "execution_count": 90,
   "metadata": {
    "colab": {
     "base_uri": "https://localhost:8080/"
    },
    "id": "4snNihh3P2Ey",
    "outputId": "6df5eae4-8acc-4141-8353-78e2bd9be2eb"
   },
   "outputs": [
    {
     "name": "stdout",
     "output_type": "stream",
     "text": [
      "\n",
      " Shape of test data\n",
      "(1009, 2)\n"
     ]
    }
   ],
   "source": [
    "# Shape of tets data\n",
    "print('\\n Shape of test data')\n",
    "print(test.shape)"
   ]
  },
  {
   "cell_type": "code",
   "execution_count": 91,
   "metadata": {
    "id": "jA5qly_QP2Ez"
   },
   "outputs": [],
   "source": [
    "# # IN the next step we will be creating prediciton for the test set and check the RmSE using the actual values\n",
    "# # making prediction\n",
    "# preds =[]\n",
    "# for i in range(0,test.shape[0]):\n",
    "#     a=train['Close'][len(train)-1039+i:].sum()+sum(preds)\n",
    "#     b=a/1039\n",
    "#     preds.append\n",
    "    "
   ]
  },
  {
   "cell_type": "code",
   "execution_count": 92,
   "metadata": {
    "id": "ZeVkhWsGP2Ez"
   },
   "outputs": [],
   "source": [
    "test_len = len(test)"
   ]
  },
  {
   "cell_type": "code",
   "execution_count": 93,
   "metadata": {
    "colab": {
     "base_uri": "https://localhost:8080/"
    },
    "id": "zfnObNQZP2E0",
    "outputId": "3e38a137-68b5-43fd-c9bb-205d268677a4"
   },
   "outputs": [
    {
     "name": "stdout",
     "output_type": "stream",
     "text": [
      "[7.621765361744309, 7.622885793222746, 7.624122548220985, 7.625319646881263, 7.626418823934664, 7.62750917955799, 7.628625392818205, 7.629617588450333, 7.630657843741166, 7.631695413457461, 7.632790998604594, 7.633857937156234, 7.634878856816448, 7.635914415643818, 7.63693861228965, 7.638076559378143, 7.639130153589617, 7.640148865337477, 7.641254067384392, 7.642336826618668, 7.64357799294832, 7.644767118808526, 7.645879375616067, 7.647060871528471, 7.648272031956149, 7.649379090461557, 7.650530605912956, 7.651773698683931, 7.652731849029505, 7.653554675440831, 7.654390705842657, 7.655218892865296, 7.656124709409265, 7.657026468288759, 7.657977436047221, 7.658858731821303, 7.6596653311590845, 7.660481401853989, 7.66125244387763, 7.662112208440442, 7.66316980230411, 7.664206145021954, 7.665203871627525, 7.66616170499881, 7.667166325122694, 7.668257421579703, 7.669238102869673, 7.670370895835847, 7.671484989885239, 7.6726100988940455, 7.673694202064405, 7.674766991164568, 7.675694659143918, 7.676700055238213, 7.677592473528836, 7.6785563907473975, 7.6796562979731124, 7.680821715513225, 7.682016781633655, 7.683252675371647, 7.684301488726822, 7.685185335593746, 7.687462526213759, 7.689914173910701, 7.692238172100899, 7.694672253540048, 7.697185556070811, 7.699643123519841, 7.702156397180416, 7.704689505601803, 7.707270961999823, 7.709847543726284, 7.71252083167844, 7.7151088106989345, 7.717584141532136, 7.720086702623842, 7.722464142368762, 7.724742352618879, 7.727046358914834, 7.729259734889974, 7.731491409552897, 7.733793432753643, 7.736147291458057, 7.738512154977837, 7.740865734913394, 7.743276156850871, 7.745657996451317, 7.747962910223816, 7.750299840759221, 7.7525870556658205, 7.754936002202655, 7.757361607754887, 7.759871381399838, 7.762296922907667, 7.764854947608269, 7.767382058557336, 7.7699079575251835, 7.772228233003404, 7.774519836802218, 7.77694131335009, 7.779356517823182, 7.781731995046, 7.784099915754669, 7.786535842331234, 7.7890770076853775, 7.791634318892202, 7.794147088286544, 7.796637571030138, 7.799213525015302, 7.801871318399857, 7.804672974810559, 7.807435286975883, 7.810315549896571, 7.813067349252266, 7.815823114712377, 7.818441621268089, 7.821087499980942, 7.823755822577553, 7.826491209914101, 7.82922559168805, 7.831889591283381, 7.834504199401599, 7.837052023186933, 7.839544146103867, 7.841857866764029, 7.84391000538322, 7.845948072782015, 7.847973293865049, 7.849950968090881, 7.851833972023578, 7.853701498259477, 7.855412302519398, 7.857163206684431, 7.858810543856567, 7.860411198508556, 7.862025828041269, 7.86364949090355, 7.865285912599194, 7.866926433820797, 7.868551237025775, 7.870192516745324, 7.871832945404141, 7.873555525131994, 7.875354143095454, 7.877004642741734, 7.878674122070517, 7.880345255987336, 7.88191150500219, 7.883522666057692, 7.885277891693032, 7.887095560564878, 7.888999272716082, 7.890937081707871, 7.8930081293607035, 7.895023003621715, 7.896949438709547, 7.898885216151281, 7.900962902193055, 7.903037691987101, 7.905145509323065, 7.907235594069668, 7.9094417244899535, 7.911495185069231, 7.913620056412213, 7.915687568856627, 7.917641917289586, 7.919369015324561, 7.921164722971066, 7.923030347077084, 7.924939941078151, 7.926836561436009, 7.928720195292733, 7.930502871403033, 7.932352973356852, 7.934282956482082, 7.936142999055404, 7.937986302325033, 7.939799222347158, 7.941632521873766, 7.943480026850847, 7.945392544221363, 7.947235103730006, 7.949053473505756, 7.950842674173253, 7.952602676823573, 7.954361946077115, 7.95625675474518, 7.957987435374265, 7.959645500225973, 7.960918687044829, 7.962051906754486, 7.963158994868218, 7.964301868004856, 7.9654718896778025, 7.966660414841012, 7.967801802764542, 7.968918306037847, 7.970105291474951, 7.971287259058176, 7.9724902196717125, 7.973711716420644, 7.974910885614322, 7.976159558444465, 7.977491232932517, 7.978884930883889, 7.980299831707362, 7.981652953443445, 7.982925652108899, 7.984188462467778, 7.985451285522751, 7.9867711084023565, 7.988151704149039, 7.989441993251267, 7.990674096316928, 7.99182689522309, 7.992887922869496, 7.99400327264439, 7.995185386888835, 7.9964789303842645, 7.997724201871265, 7.999056188196213, 8.000344896014049, 8.00168443505866, 8.002922477115211, 8.004218733286782, 8.00555963391442, 8.006758156841986, 8.008019810119333, 8.00908325889051, 8.010183688284851, 8.011300074497225, 8.012514197465011, 8.013780316590347, 8.014986986874383, 8.016035041370788, 8.017058118716053, 8.018041327951648, 8.018982151864385, 8.019868159943538, 8.020769912331986, 8.021639109470074, 8.02246704714051, 8.02320165273728, 8.024148829796484, 8.025089512482111, 8.026163684446908, 8.027038227246162, 8.028017700216674, 8.02902539863116, 8.030074977817119, 8.03107728205678, 8.0316655647942, 8.03226558022016, 8.032727439070724, 8.03325665357922, 8.033698434207148, 8.03419268438971, 8.03465645315521, 8.035001751919488, 8.03538331956262, 8.035972153377845, 8.036726337870785, 8.037499852576309, 8.038236968386592, 8.038862079356251, 8.039572051684653, 8.04053545312339, 8.041432911451558, 8.042399396002056, 8.043244192231988, 8.0440712429676, 8.044917696132087, 8.045636147763537, 8.046370177642391, 8.04711236810586, 8.04774131990775, 8.048300280581593, 8.048853600978601, 8.04929349552863, 8.049737542600512, 8.050152297350364, 8.050603389815528, 8.051000419934274, 8.051339617575437, 8.051679151388694, 8.052234581667573, 8.052550225455152, 8.052785656798518, 8.052960617806246, 8.053462808705955, 8.054054694542137, 8.054649644685389, 8.055693648297565, 8.056925753003508, 8.058103330558518, 8.059272164384641, 8.06045702282308, 8.061775612538465, 8.062998878755053, 8.064317509953026, 8.065704345939105, 8.067085123288896, 8.068440014392255, 8.069796248301465, 8.071112944285906, 8.072399973963096, 8.073561916454636, 8.074666784558161, 8.075834690192014, 8.077052068477634, 8.078286758337375, 8.07948550636348, 8.080791983574938, 8.082265761556679, 8.083691446156832, 8.084817503090587, 8.086266777127346, 8.087767041524895, 8.089231627294494, 8.090744740899344, 8.09226554837298, 8.093806445844113, 8.095317899209666, 8.096837044798576, 8.098305664268148, 8.099732379495372, 8.101105999296655, 8.102529295628962, 8.103935419806989, 8.105373908825626, 8.106805151549933, 8.108484343969707, 8.110151573250151, 8.111687897901541, 8.113042395322651, 8.114356114247649, 8.115656268969401, 8.11703947637175, 8.118493430263099, 8.120085098677631, 8.121587908488015, 8.123032742886911, 8.124565728756968, 8.126095278537699, 8.127592895265686, 8.129310033913123, 8.13107966724703, 8.132766812606047, 8.134351566632416, 8.13597505678765, 8.137681920074854, 8.139349592939151, 8.140973081138297, 8.142605611446662, 8.144196399961475, 8.145484007890078, 8.146905448928623, 8.148292372069285, 8.149641026551018, 8.151049243623913, 8.152413018890142, 8.153723636351875, 8.155039269291768, 8.156497435069065, 8.158023943924437, 8.159502411658751, 8.161066586496867, 8.162500993421046, 8.163929388855557, 8.165361677645304, 8.166807774451692, 8.16824539365333, 8.169455250336831, 8.170670022636472, 8.171950419091015, 8.17315527579973, 8.174538482217766, 8.175991196273484, 8.177482515595855, 8.178795679635098, 8.180309600031167, 8.181698658108504, 8.183180767779572, 8.184562760611861, 8.185799938769058, 8.187003655259414, 8.188279179199215, 8.189471725462049, 8.190726157300961, 8.191950861123855, 8.193278364454999, 8.194563823686371, 8.195591637188539, 8.196565959921134, 8.197718403885377, 8.198762971183578, 8.199719376506852, 8.200602398683767, 8.20156806012944, 8.202472736105781, 8.203400607994885, 8.204328160629174, 8.205224422433563, 8.20615749916541, 8.20704566318837, 8.20794833480699, 8.208775092324142, 8.20956426486361, 8.210336875631562, 8.211095385914648, 8.21189181345272, 8.212659297906091, 8.213433737249902, 8.213989667613877, 8.214559776303286, 8.215068507498827, 8.215560398982971, 8.216233650121705, 8.216887746900815, 8.217584612854136, 8.21834163427421, 8.219171259283401, 8.219918703544336, 8.22072883109988, 8.221510029148543, 8.222284568325103, 8.22313668385367, 8.223993360448173, 8.224753016900548, 8.225597668057041, 8.22630688279248, 8.226962291001392, 8.227622065323496, 8.228320897895669, 8.229089798686449, 8.229804952104374, 8.230405601214487, 8.231098520541755, 8.23177726040354, 8.232575602584316, 8.232952288017998, 8.233201745191455, 8.233373402025144, 8.233584872195635, 8.233952647093746, 8.234428566466486, 8.234878941656245, 8.23531489699981, 8.235830570832317, 8.236375249296966, 8.236834986907764, 8.237323673713423, 8.237716214519878, 8.237951810371733, 8.238034022274975, 8.237915621900619, 8.237779760277132, 8.237640047452826, 8.237443209045942, 8.237235025903273, 8.236974604719828, 8.236743657846407, 8.236583096555869, 8.23642733153759, 8.236171065265573, 8.235929411217274, 8.235668934915209, 8.235489964583113, 8.235324444230866, 8.23527892831831, 8.235035151240332, 8.234566900646913, 8.234198532857661, 8.233703437250979, 8.233211567515847, 8.23271921029832, 8.232316801190589, 8.231835945691271, 8.231520619572036, 8.231337537926418, 8.231490003276198, 8.231677307541089, 8.232055580392963, 8.232372285626255, 8.23278345736622, 8.233291666937449, 8.233770647776831, 8.234163383800395, 8.234259184973636, 8.234459144522667, 8.234666735349748, 8.23488692041947, 8.235184132431778, 8.235466772800889, 8.235752170989988, 8.236117138453803, 8.236484945330368, 8.236744097902548, 8.237102615343483, 8.237515997519244, 8.237766261144138, 8.237974651888585, 8.237823982564391, 8.237683074717575, 8.237457785396186, 8.23722483969291, 8.236922287502319, 8.236520327430469, 8.236110535881837, 8.235554153855952, 8.234846080668495, 8.23421163674448, 8.233529487722421, 8.23298293617408, 8.232435842949279, 8.232017047947245, 8.231731633723209, 8.231379038712033, 8.230983973339104, 8.230524096206635, 8.229823426331714, 8.229117106635314, 8.228303545789561, 8.22741732531958, 8.22656986974507, 8.225622466246305, 8.224706333903635, 8.2238958347301, 8.223002768163926, 8.221935377448526, 8.220936304482668, 8.220117113505943, 8.219158359406345, 8.21819369970308, 8.217275160257792, 8.216323500357154, 8.21539815199279, 8.214402510914487, 8.213594188328676, 8.212941159773996, 8.21234942653294, 8.211858692565183, 8.211402160050381, 8.210960041279371, 8.21036882229154, 8.209781972759618, 8.20896907084957, 8.2082619044183, 8.207427674392948, 8.206647126993932, 8.205833595900765, 8.2050489909413, 8.204330506294067, 8.203784748619434, 8.203255793959988, 8.202590041525854, 8.201854253658189, 8.20129117561424, 8.200836558345278, 8.200381490514102, 8.19994827098042, 8.199385781655325, 8.198646818108898, 8.197847657373623, 8.19697585128579, 8.196125480474379, 8.195299043884164, 8.194464355126865, 8.193836965984275, 8.193260986763248, 8.192828143340813, 8.19238743783372, 8.191943817851394, 8.191400650178302, 8.191637419900976, 8.19199830931614, 8.192366989503766, 8.192768245192077, 8.19321201946878, 8.193604201846846, 8.19391005338485, 8.19429549446848, 8.194829979596795, 8.195315440428903, 8.195702274363917, 8.196069670076865, 8.19659104735147, 8.197095597447953, 8.197613036097554, 8.198039312644728, 8.198381769842591, 8.198652713122911, 8.198844638507573, 8.199081352718185, 8.199320779232275, 8.199686805772645, 8.200068061278861, 8.200380319020468, 8.200611122111665, 8.20075791212367, 8.201001477943414, 8.201175909537017, 8.201462010537549, 8.201708751876039, 8.202027591075122, 8.202448331997894, 8.202718350166375, 8.203105087877145, 8.203549195991988, 8.203936757137669, 8.204178518046627, 8.204400696954501, 8.204561153542167, 8.204788667073924, 8.204860310946147, 8.205008834544707, 8.205330944390639, 8.205470023621947, 8.20558941908639, 8.205862550324333, 8.20614090765865, 8.206389808459104, 8.206614178933295, 8.20687841498774, 8.207152823724101, 8.207630675878436, 8.208128823228165, 8.208592776472196, 8.209027457122813, 8.2094427469713, 8.209759340377616, 8.210001916532597, 8.210289331712511, 8.210611719553654, 8.210295180128035, 8.209879218958688, 8.209433113130105, 8.209031163787321, 8.208871630748456, 8.208617786973182, 8.208329003808636, 8.20806471144373, 8.207819978749423, 8.20755022649843, 8.20729011770408, 8.206806758058594, 8.206362562575995, 8.20580890802949, 8.20517541834468, 8.204655275052655, 8.203941355602757, 8.203137531376395, 8.202362642904024, 8.201621674264683, 8.20083041725206, 8.19995908961802, 8.199508107546283, 8.199185518951186, 8.199115336115657, 8.199064905328854, 8.198791431498655, 8.198359113789536, 8.197807437985562, 8.197433609876528, 8.197208073315453, 8.196684989146291, 8.196111832544851, 8.19585029818662, 8.195330823754695, 8.19489507630549, 8.194295368749799, 8.193650468223286, 8.19300988394997, 8.192329021595114, 8.191592975035743, 8.190915663811793, 8.190401209563838, 8.189668207789373, 8.188988988966567, 8.188358650997257, 8.187712822108256, 8.187001932932942, 8.186275473005225, 8.185444229668263, 8.184096800758121, 8.182847144465514, 8.1815962496632, 8.180071568047406, 8.178763413010783, 8.177449006086114, 8.176058965457855, 8.174672502589132, 8.173914001600616, 8.173328187925295, 8.172806213879634, 8.17225894550885, 8.171418766069314, 8.170637218761154, 8.169790476658838, 8.169141111422622, 8.168238377142565, 8.167106799716542, 8.1660335656231, 8.164959267868513, 8.163834351384738, 8.16286193746143, 8.161952980015903, 8.1609935677067, 8.159988605930394, 8.159081756184042, 8.158203740085115, 8.157419006428114, 8.156752424670364, 8.156184290304328, 8.155610637470138, 8.155090925515205, 8.154739182131175, 8.15444159955648, 8.154540154164565, 8.154638806448176, 8.154648359279145, 8.154697564788838, 8.154731952860976, 8.154766375014457, 8.154835519092765, 8.154756069656782, 8.154572478050891, 8.154448169307631, 8.154472399406055, 8.154561073736486, 8.154530906316998, 8.1545304414075, 8.154723236691353, 8.154817115023057, 8.154757468952715, 8.154796871796078, 8.154692607050583, 8.154454443132893, 8.154151622957603, 8.153992209303446, 8.153971388896414, 8.153846484425548, 8.153607481932411, 8.153333554758904, 8.153064311502968, 8.152799756806736, 8.152480430500301, 8.152225207933899, 8.152004420231156, 8.15203613918084, 8.152087711172102, 8.152203754493383, 8.152324868224298, 8.15239159257338, 8.152418739840549, 8.152287341168437, 8.15221032168496, 8.151444425076123, 8.150940405675803, 8.150356600329593, 8.149801948793746, 8.149023754491262, 8.148229922731591, 8.147479902833407, 8.14687284624553, 8.146314742029718, 8.145815549504476, 8.145013582754729, 8.144280196810977, 8.143650147452018, 8.14297487505108, 8.142204780774618, 8.141676737940895, 8.141544603885336, 8.14151640230346, 8.141483217370162, 8.141519375167357, 8.141610078215095, 8.141646361741573, 8.141548885390474, 8.1414860002422, 8.14143296357247, 8.141132104269765, 8.140949876424642, 8.14067331535073, 8.140381613978432, 8.140079712703882, 8.139812200030644, 8.13924709814762, 8.138552595767193, 8.137609635009778, 8.136536899266478, 8.135477966560101, 8.13466079903439, 8.133882464841165, 8.133138047065982, 8.132298738886663, 8.131428866477235, 8.13069192779188, 8.129741176481465, 8.128715151879366, 8.127593957778156, 8.126392366061385, 8.125273825294348, 8.124079844942807, 8.122810350240076, 8.121569329774506, 8.120356811766353, 8.118910188190304, 8.117531506513584, 8.116037484220733, 8.114541981231854, 8.113263033740509, 8.111987774110915, 8.111053173292394, 8.110147378617757, 8.109181221411234, 8.108199240461195, 8.107141955268391, 8.10603406820721, 8.104156995925948, 8.102629896813884, 8.10107155181568, 8.099516617773872, 8.098158358723103, 8.096729377909151, 8.095298980860498, 8.09379283515273, 8.092290152135043, 8.090949508083641, 8.089652133958847, 8.088358429433534, 8.08720219398203, 8.086079500418087, 8.084975515780247, 8.083870437005004, 8.082620556367745, 8.081220774956812, 8.079983134495917, 8.078714535025645, 8.077528920095046, 8.07618851268186, 8.075064814478374, 8.073830983769234, 8.0726801720584, 8.071533175202164, 8.070419729389679, 8.069206072035259, 8.067882193018445, 8.06637365207991, 8.064709998613191, 8.06306947333927, 8.061372812757842, 8.059615005832924, 8.057885189188557, 8.056104104143154, 8.054405495723078, 8.052824133478998, 8.051771431926449, 8.050792018082966, 8.049885964582554, 8.048914592892347, 8.047917481487879, 8.046854961647927, 8.045776522561354, 8.044523575606508, 8.043309030091748, 8.042073459259333, 8.040638447821532, 8.039648000297074, 8.039028226263673, 8.038298819153923, 8.037454714911261, 8.03657508628382, 8.03566485346547, 8.034793361744423, 8.03402011433287, 8.03322627896551, 8.032347415019984, 8.0313239734095, 8.030230141866793, 8.029115404643669, 8.02793514240843, 8.027561440864732, 8.027182413551415, 8.026887252415193, 8.026542244736714, 8.026261315345968, 8.026004884538581, 8.025688734771027, 8.025342539265349, 8.025020777659071, 8.024753206576474, 8.024564656731654, 8.024306544399376, 8.02413737348203, 8.023987856508278, 8.023967031787274, 8.0238669000051, 8.023756758181518, 8.023601908586059, 8.023372574501407, 8.023182656339367, 8.02313625659342, 8.023060078453275, 8.023107709849166, 8.023170254655755, 8.02325268305482, 8.023325282344269, 8.023447507599318, 8.023203154286731, 8.023032889821208, 8.023030940257105, 8.023103319781642, 8.02325010206091, 8.023342520397936, 8.023435030328956, 8.023408702311443, 8.023283240173, 8.023088278072082, 8.022893122748071, 8.022871213058028, 8.022859192456501, 8.02269354249858, 8.022686301212651, 8.02273356216529, 8.02273627134484, 8.022724117005241, 8.022682218211392, 8.022679921103572, 8.022637978508035, 8.02253652952737, 8.022578686642857, 8.02266548415192, 8.02273254607873, 8.022809585272068, 8.022896611620208, 8.02302832283093, 8.023070967353064, 8.023118609540727, 8.023161343544237, 8.023303227928324, 8.023524539353426, 8.023612274278454, 8.023784337979423, 8.02384259797742, 8.023544126815853, 8.023735944582766, 8.023908130850936, 8.023976424340383, 8.024079473323871, 8.02423217845105, 8.024320614703232, 8.024349673786187, 8.024527423710653, 8.024740037609277, 8.025081702661415, 8.025458394140765, 8.02585032515577, 8.026242644605874, 8.026684906889924, 8.027226715519152, 8.027729417913125, 8.028133510497776, 8.028577646781718, 8.029329458126398, 8.030131568590349, 8.030899786200447, 8.031891758238306, 8.032914445808414, 8.033883637528739, 8.034858745197251, 8.03593888270488, 8.036965581300226, 8.037963565027976, 8.038927850028005, 8.039694874656377, 8.040447793263569, 8.041231190481867, 8.042025274912474, 8.042904388168086, 8.043784372695507, 8.044650363154075, 8.04545279166067, 8.046097442593931, 8.046747687829408, 8.04741839911566, 8.04810959673619, 8.048667683551589, 8.04929074369386, 8.049894599733198, 8.050489143439574, 8.051099142590655, 8.051680013891538, 8.052241639276959, 8.052888063101813, 8.053559904591507, 8.054202679521728, 8.054885734704603, 8.055564511448612, 8.056199362302376, 8.056879440956788, 8.05736693296963, 8.057909417541453, 8.058551547786786, 8.059124938815316, 8.059788095345363, 8.060248737659876, 8.06068010409958]\n"
     ]
    }
   ],
   "source": [
    "# IN the next step we will be creating prediciton for the test set and check the RmSE using the actual values\n",
    "# making prediction\n",
    "preds =[]\n",
    "for i in range(0,test.shape[0]):\n",
    "    a=train['Close'][len(train)-test_len+i:].sum()+sum(preds)\n",
    "    b=a/test_len\n",
    "    preds.append(b) # (b) is missing in original work\n",
    "print(preds)    "
   ]
  },
  {
   "cell_type": "code",
   "execution_count": 94,
   "metadata": {
    "colab": {
     "base_uri": "https://localhost:8080/"
    },
    "id": "eKUaSaApP2E0",
    "outputId": "2fe77a47-8f15-4bcd-db21-b25aa5d9a18b"
   },
   "outputs": [
    {
     "name": "stdout",
     "output_type": "stream",
     "text": [
      "\n",
      " RmSE value on test data set: \n",
      "2.872984545788437\n"
     ]
    }
   ],
   "source": [
    "#Checking the RmSE Values\n",
    "rms=np.sqrt(np.mean(np.power((np.array(test['Close'])-preds),2)))\n",
    "print('\\n RmSE value on test data set: ')\n",
    "print(rms)"
   ]
  },
  {
   "cell_type": "code",
   "execution_count": 95,
   "metadata": {
    "colab": {
     "base_uri": "https://localhost:8080/",
     "height": 811
    },
    "id": "RlLdBDuKP2E1",
    "outputId": "4afea4dd-7544-42d7-a736-84c81ee5b819"
   },
   "outputs": [
    {
     "name": "stderr",
     "output_type": "stream",
     "text": [
      "/usr/local/lib/python3.6/dist-packages/ipykernel_launcher.py:2: SettingWithCopyWarning:\n",
      "\n",
      "\n",
      "A value is trying to be set on a copy of a slice from a DataFrame.\n",
      "Try using .loc[row_indexer,col_indexer] = value instead\n",
      "\n",
      "See the caveats in the documentation: https://pandas.pydata.org/pandas-docs/stable/user_guide/indexing.html#returning-a-view-versus-a-copy\n",
      "\n",
      "/usr/local/lib/python3.6/dist-packages/ipykernel_launcher.py:3: SettingWithCopyWarning:\n",
      "\n",
      "\n",
      "A value is trying to be set on a copy of a slice from a DataFrame.\n",
      "Try using .loc[row_indexer,col_indexer] = value instead\n",
      "\n",
      "See the caveats in the documentation: https://pandas.pydata.org/pandas-docs/stable/user_guide/indexing.html#returning-a-view-versus-a-copy\n",
      "\n"
     ]
    },
    {
     "data": {
      "text/plain": [
       "[<matplotlib.lines.Line2D at 0x7f1b019ce160>,\n",
       " <matplotlib.lines.Line2D at 0x7f1b019ce320>]"
      ]
     },
     "execution_count": 95,
     "metadata": {
      "tags": []
     },
     "output_type": "execute_result"
    },
    {
     "data": {
      "image/png": "[encoded data removed]",
      "text/plain": [
       "<Figure size 1440x720 with 1 Axes>"
      ]
     },
     "metadata": {
      "needs_background": "light",
      "tags": []
     },
     "output_type": "display_data"
    }
   ],
   "source": [
    "#plot\n",
    "test['Predictions'] =0\n",
    "test['Predictions'] = preds\n",
    "plt.plot(train['Close'])\n",
    "plt.plot(test[['Close', 'Predictions']])"
   ]
  },
  {
   "cell_type": "markdown",
   "metadata": {
    "id": "rhVxmVwkP2E2"
   },
   "source": [
    "The RMSE value is close to \"  \" but the results are not very promising (as you can gather from the plot). The predicted values are of the same range as the observed values in the train set (there is an increasing trend initially and then a slow decrease).\n",
    "\n",
    "In the next section, we will look at two commonly used machine learning techniques – Linear Regression and kNN, and see how they perform on our stock market data."
   ]
  },
  {
   "cell_type": "code",
   "execution_count": 124,
   "metadata": {
    "id": "jtOF53_AP2E2"
   },
   "outputs": [],
   "source": [
    "# The most basic machine learning algorithm that can be implemented on this data is linear regression. \n",
    "#The linear regression model returns an equation that determines the relationship between the independent and the dependent variable.\n",
    "#We do not have a set of independent variables. We have only the dates instead. \n",
    "#Let us use the date column to extract features like – day, month, year,  mon/fri etc. and then fit a linear regression model.\n",
    "\n",
    "#Implementation :We will first sort the dataset in ascending order and then create a separate dataset so that any new feature \n",
    "#created does not affect the original data.\n",
    "\n",
    "#setting index as date values\n",
    "df['Date'] = pd.to_datetime(df.Date,format='%Y-%m-%d')\n",
    "df.index = df['Date']\n",
    "\n",
    "#sorting\n",
    "data = df.sort_index(ascending=True, axis=0)\n",
    "\n",
    "#creating a separate dataset\n",
    "new_data = pd.DataFrame(index=range(0,len(df)),columns=['Date', 'Close'])\n",
    "\n",
    "for i in range(0,len(data)):\n",
    "    new_data['Date'][i] = data['Date'][i]\n",
    "    new_data['Close'][i] = data['Close'][i]\n"
   ]
  },
  {
   "cell_type": "code",
   "execution_count": 125,
   "metadata": {
    "id": "Z6mV-biDP2E3"
   },
   "outputs": [],
   "source": [
    "from fastai.tabular import *"
   ]
  },
  {
   "cell_type": "code",
   "execution_count": 126,
   "metadata": {
    "colab": {
     "base_uri": "https://localhost:8080/"
    },
    "id": "cynxvDXWP2E3",
    "outputId": "a2851fbe-5494-4f00-c382-5c917bdef4e0"
   },
   "outputs": [
    {
     "name": "stderr",
     "output_type": "stream",
     "text": [
      "/usr/local/lib/python3.6/dist-packages/fastai/tabular/transform.py:63: FutureWarning:\n",
      "\n",
      "Series.dt.weekofyear and Series.dt.week have been deprecated.  Please use Series.dt.isocalendar().week instead.\n",
      "\n"
     ]
    }
   ],
   "source": [
    "#create features # Not running as unable to installl Fastai\n",
    "#from fastai.structured import  add_datepart\n",
    "add_datepart(new_data, 'Date')\n",
    "new_data.drop('Elapsed', axis=1, inplace=True)  #elapsed will be the time stamp"
   ]
  },
  {
   "cell_type": "code",
   "execution_count": 127,
   "metadata": {
    "colab": {
     "base_uri": "https://localhost:8080/"
    },
    "id": "tWc6WNvjP2E4",
    "outputId": "885751c6-ad6e-4d81-a3c2-cb1641bdda77"
   },
   "outputs": [
    {
     "name": "stderr",
     "output_type": "stream",
     "text": [
      "/usr/local/lib/python3.6/dist-packages/ipykernel_launcher.py:7: SettingWithCopyWarning:\n",
      "\n",
      "\n",
      "A value is trying to be set on a copy of a slice from a DataFrame\n",
      "\n",
      "See the caveats in the documentation: https://pandas.pydata.org/pandas-docs/stable/user_guide/indexing.html#returning-a-view-versus-a-copy\n",
      "\n",
      "/usr/local/lib/python3.6/dist-packages/ipykernel_launcher.py:5: SettingWithCopyWarning:\n",
      "\n",
      "\n",
      "A value is trying to be set on a copy of a slice from a DataFrame\n",
      "\n",
      "See the caveats in the documentation: https://pandas.pydata.org/pandas-docs/stable/user_guide/indexing.html#returning-a-view-versus-a-copy\n",
      "\n"
     ]
    }
   ],
   "source": [
    "# Substitue of above, but also getting error\n",
    "new_data['mon_fri'] = 0\n",
    "for i in range(0,len(new_data)):\n",
    "    if (new_data['Dayofweek'][i] == 0 or new_data['Dayofweek'][i] == 4):\n",
    "        new_data['mon_fri'][i] = 1\n",
    "    else:\n",
    "        new_data['mon_fri'][i] = 0"
   ]
  },
  {
   "cell_type": "code",
   "execution_count": 128,
   "metadata": {
    "id": "LVkloUxBP2E4"
   },
   "outputs": [],
   "source": [
    "# Substitue of above and fastai method\n",
    "d = pd.date_range('2000-01-03', '2021-01-12', freq='D').to_series()\n",
    "s = (d.dt.dayofweek==1) |(d.dt.dayofweek==4)\n",
    "t = s.apply(lambda x: int(x==True))"
   ]
  },
  {
   "cell_type": "code",
   "execution_count": 129,
   "metadata": {
    "colab": {
     "base_uri": "https://localhost:8080/"
    },
    "id": "N4zJ8WjUP2E4",
    "outputId": "e847f4a8-32eb-4e98-db7b-3b16e1384ab3"
   },
   "outputs": [
    {
     "data": {
      "text/plain": [
       "Close               0\n",
       "Year                0\n",
       "Month               0\n",
       "Week                0\n",
       "Day                 0\n",
       "Dayofweek           0\n",
       "Dayofyear           0\n",
       "Is_month_end        0\n",
       "Is_month_start      0\n",
       "Is_quarter_end      0\n",
       "Is_quarter_start    0\n",
       "Is_year_end         0\n",
       "Is_year_start       0\n",
       "mon_fri             0\n",
       "dtype: int64"
      ]
     },
     "execution_count": 129,
     "metadata": {
      "tags": []
     },
     "output_type": "execute_result"
    }
   ],
   "source": [
    "new_data.isnull().sum()"
   ]
  },
  {
   "cell_type": "code",
   "execution_count": 130,
   "metadata": {
    "id": "lIuVrhHrP2E5"
   },
   "outputs": [],
   "source": [
    "new_data = new_data.dropna()"
   ]
  },
  {
   "cell_type": "code",
   "execution_count": 131,
   "metadata": {
    "colab": {
     "base_uri": "https://localhost:8080/"
    },
    "id": "GWuK-SszP2E5",
    "outputId": "c57bcb8c-f0d6-4f01-ae81-362bf825f838"
   },
   "outputs": [
    {
     "data": {
      "text/plain": [
       "Close               0\n",
       "Year                0\n",
       "Month               0\n",
       "Week                0\n",
       "Day                 0\n",
       "Dayofweek           0\n",
       "Dayofyear           0\n",
       "Is_month_end        0\n",
       "Is_month_start      0\n",
       "Is_quarter_end      0\n",
       "Is_quarter_start    0\n",
       "Is_year_end         0\n",
       "Is_year_start       0\n",
       "mon_fri             0\n",
       "dtype: int64"
      ]
     },
     "execution_count": 131,
     "metadata": {
      "tags": []
     },
     "output_type": "execute_result"
    }
   ],
   "source": [
    "new_data.isnull().sum()"
   ]
  },
  {
   "cell_type": "code",
   "execution_count": 132,
   "metadata": {
    "id": "37PmnQN8P2E5"
   },
   "outputs": [],
   "source": [
    "train_len = round(0.8 * new_data.shape[0])"
   ]
  },
  {
   "cell_type": "code",
   "execution_count": 133,
   "metadata": {
    "id": "NPOO2OHhP2E5"
   },
   "outputs": [],
   "source": [
    "#split into train and validation\n",
    "train = new_data[:train_len]\n",
    "test = new_data[train_len:]"
   ]
  },
  {
   "cell_type": "code",
   "execution_count": 134,
   "metadata": {
    "id": "UsGX6xCKP2E6"
   },
   "outputs": [],
   "source": [
    "x_train = train.drop('Close', axis=1)\n",
    "y_train = train['Close']\n",
    "x_test = test.drop('Close', axis=1)\n",
    "y_test = test['Close']"
   ]
  },
  {
   "cell_type": "code",
   "execution_count": 135,
   "metadata": {
    "colab": {
     "base_uri": "https://localhost:8080/"
    },
    "id": "ccpx8s8IP2E6",
    "outputId": "458030d2-1399-439c-be63-186c4f3ca9d7"
   },
   "outputs": [
    {
     "data": {
      "text/plain": [
       "LinearRegression(copy_X=True, fit_intercept=True, n_jobs=None, normalize=False)"
      ]
     },
     "execution_count": 135,
     "metadata": {
      "tags": []
     },
     "output_type": "execute_result"
    }
   ],
   "source": [
    "#implement linear regression\n",
    "from sklearn.linear_model import LinearRegression\n",
    "model = LinearRegression()\n",
    "model.fit(x_train,y_train)"
   ]
  },
  {
   "cell_type": "code",
   "execution_count": 136,
   "metadata": {
    "colab": {
     "base_uri": "https://localhost:8080/"
    },
    "id": "wgSerzEkP2E6",
    "outputId": "e28f2863-cdbd-4b0a-cc91-38b8af1714f7"
   },
   "outputs": [
    {
     "data": {
      "text/plain": [
       "1.9406666801451602"
      ]
     },
     "execution_count": 136,
     "metadata": {
      "tags": []
     },
     "output_type": "execute_result"
    }
   ],
   "source": [
    "#make predictions and find the rmse\n",
    "preds = model.predict(x_test)\n",
    "rms=np.sqrt(np.mean(np.power((np.array(y_test)-np.array(preds)),2)))\n",
    "rms"
   ]
  },
  {
   "cell_type": "code",
   "execution_count": null,
   "metadata": {
    "id": "d8ae6b14P2E7"
   },
   "outputs": [],
   "source": [
    "#The RMSE value is near than the previous technique, which clearly shows that linear regression has performed as per expectation. \n",
    "#Let’s look at the plot and understand why linear regression has not done well"
   ]
  },
  {
   "cell_type": "code",
   "execution_count": 137,
   "metadata": {
    "colab": {
     "base_uri": "https://localhost:8080/",
     "height": 811
    },
    "id": "cdbhy_wPP2E7",
    "outputId": "e918fec8-94e0-419b-8721-c8a692322e60"
   },
   "outputs": [
    {
     "name": "stderr",
     "output_type": "stream",
     "text": [
      "/usr/local/lib/python3.6/dist-packages/ipykernel_launcher.py:2: SettingWithCopyWarning:\n",
      "\n",
      "\n",
      "A value is trying to be set on a copy of a slice from a DataFrame.\n",
      "Try using .loc[row_indexer,col_indexer] = value instead\n",
      "\n",
      "See the caveats in the documentation: https://pandas.pydata.org/pandas-docs/stable/user_guide/indexing.html#returning-a-view-versus-a-copy\n",
      "\n",
      "/usr/local/lib/python3.6/dist-packages/ipykernel_launcher.py:3: SettingWithCopyWarning:\n",
      "\n",
      "\n",
      "A value is trying to be set on a copy of a slice from a DataFrame.\n",
      "Try using .loc[row_indexer,col_indexer] = value instead\n",
      "\n",
      "See the caveats in the documentation: https://pandas.pydata.org/pandas-docs/stable/user_guide/indexing.html#returning-a-view-versus-a-copy\n",
      "\n"
     ]
    },
    {
     "data": {
      "text/plain": [
       "[<matplotlib.lines.Line2D at 0x7f1aff55cda0>,\n",
       " <matplotlib.lines.Line2D at 0x7f1aff55c860>]"
      ]
     },
     "execution_count": 137,
     "metadata": {
      "tags": []
     },
     "output_type": "execute_result"
    },
    {
     "data": {
      "image/png": "[encoded data removed]",
      "text/plain": [
       "<Figure size 1440x720 with 1 Axes>"
      ]
     },
     "metadata": {
      "needs_background": "light",
      "tags": []
     },
     "output_type": "display_data"
    }
   ],
   "source": [
    "#plot\n",
    "test['Predictions'] = 0\n",
    "test['Predictions'] = preds\n",
    "\n",
    "test.index = new_data[train_len:].index\n",
    "train.index = new_data[:train_len].index\n",
    "\n",
    "plt.plot(train['Close'])\n",
    "plt.plot(test[['Close', 'Predictions']])\n"
   ]
  },
  {
   "cell_type": "code",
   "execution_count": 138,
   "metadata": {
    "colab": {
     "base_uri": "https://localhost:8080/"
    },
    "id": "4RAODg37xGHC",
    "outputId": "d1c2980e-25f7-4b37-e1c1-c61864d248a7"
   },
   "outputs": [
    {
     "name": "stdout",
     "output_type": "stream",
     "text": [
      "[ 8.902005  8.904899  8.907792  8.896742 ... 10.631406 10.6343   10.62325  10.623246]\n"
     ]
    }
   ],
   "source": [
    "print(preds)"
   ]
  },
  {
   "cell_type": "markdown",
   "metadata": {
    "id": "wUHcXojGP2E8"
   },
   "source": [
    "### KNN"
   ]
  },
  {
   "cell_type": "code",
   "execution_count": 139,
   "metadata": {
    "id": "eavDrJiLP2E8"
   },
   "outputs": [],
   "source": [
    "#importing libraries\n",
    "from sklearn import neighbors\n",
    "from sklearn.model_selection import GridSearchCV\n",
    "from sklearn.preprocessing import MinMaxScaler\n",
    "scaler = MinMaxScaler(feature_range=(0, 1))"
   ]
  },
  {
   "cell_type": "code",
   "execution_count": 140,
   "metadata": {
    "id": "syc-cFKTP2E9"
   },
   "outputs": [],
   "source": [
    "x_valid = x_test\n",
    "y_valid = y_test"
   ]
  },
  {
   "cell_type": "code",
   "execution_count": 141,
   "metadata": {
    "id": "f9MSGSFuP2E9"
   },
   "outputs": [],
   "source": [
    "#scaling data\n",
    "x_train_scaled = scaler.fit_transform(x_train)\n",
    "x_train = pd.DataFrame(x_train_scaled)\n",
    "x_valid_scaled = scaler.fit_transform(x_valid)\n",
    "x_valid = pd.DataFrame(x_valid_scaled)"
   ]
  },
  {
   "cell_type": "code",
   "execution_count": 143,
   "metadata": {
    "id": "DiTt35xxP2E-"
   },
   "outputs": [],
   "source": [
    "#using gridsearch to find the best parameter\n",
    "params = {'n_neighbors':[2,3,4,5,6,7,8,9]}\n",
    "knn = neighbors.KNeighborsRegressor()\n",
    "model = GridSearchCV(knn, params, cv=5)"
   ]
  },
  {
   "cell_type": "code",
   "execution_count": 144,
   "metadata": {
    "id": "i69JckvPP2E-"
   },
   "outputs": [],
   "source": [
    "#fit the model and make predictions\n",
    "model.fit(x_train,y_train)\n",
    "preds = model.predict(x_valid)"
   ]
  },
  {
   "cell_type": "code",
   "execution_count": 145,
   "metadata": {
    "colab": {
     "base_uri": "https://localhost:8080/"
    },
    "id": "z9CI3nYVP2E_",
    "outputId": "c618c921-05b0-4889-e241-b40248cc6aa5"
   },
   "outputs": [
    {
     "data": {
      "text/plain": [
       "5.427252109207298"
      ]
     },
     "execution_count": 145,
     "metadata": {
      "tags": []
     },
     "output_type": "execute_result"
    }
   ],
   "source": [
    "#rmse\n",
    "rms=np.sqrt(np.mean(np.power((np.array(y_valid)-np.array(preds)),2)))\n",
    "rms"
   ]
  },
  {
   "cell_type": "code",
   "execution_count": 146,
   "metadata": {
    "id": "qPDzcI-AP2E_"
   },
   "outputs": [],
   "source": [
    "valid = test"
   ]
  },
  {
   "cell_type": "code",
   "execution_count": 147,
   "metadata": {
    "colab": {
     "base_uri": "https://localhost:8080/",
     "height": 794
    },
    "id": "PinTNfj0P2FA",
    "outputId": "d2937b32-479a-4210-e116-c417a89823ed"
   },
   "outputs": [
    {
     "name": "stderr",
     "output_type": "stream",
     "text": [
      "/usr/local/lib/python3.6/dist-packages/ipykernel_launcher.py:2: SettingWithCopyWarning:\n",
      "\n",
      "\n",
      "A value is trying to be set on a copy of a slice from a DataFrame.\n",
      "Try using .loc[row_indexer,col_indexer] = value instead\n",
      "\n",
      "See the caveats in the documentation: https://pandas.pydata.org/pandas-docs/stable/user_guide/indexing.html#returning-a-view-versus-a-copy\n",
      "\n",
      "/usr/local/lib/python3.6/dist-packages/ipykernel_launcher.py:3: SettingWithCopyWarning:\n",
      "\n",
      "\n",
      "A value is trying to be set on a copy of a slice from a DataFrame.\n",
      "Try using .loc[row_indexer,col_indexer] = value instead\n",
      "\n",
      "See the caveats in the documentation: https://pandas.pydata.org/pandas-docs/stable/user_guide/indexing.html#returning-a-view-versus-a-copy\n",
      "\n"
     ]
    },
    {
     "data": {
      "text/plain": [
       "[<matplotlib.lines.Line2D at 0x7f1aff4f1978>]"
      ]
     },
     "execution_count": 147,
     "metadata": {
      "tags": []
     },
     "output_type": "execute_result"
    },
    {
     "data": {
      "image/png": "[encoded data removed]",
      "text/plain": [
       "<Figure size 1440x720 with 1 Axes>"
      ]
     },
     "metadata": {
      "needs_background": "light",
      "tags": []
     },
     "output_type": "display_data"
    }
   ],
   "source": [
    "#plot\n",
    "test['Predictions'] = 0\n",
    "test['Predictions'] = preds\n",
    "plt.plot(test[['Close', 'Predictions']])\n",
    "plt.plot(train['Close'])"
   ]
  },
  {
   "cell_type": "code",
   "execution_count": 148,
   "metadata": {
    "colab": {
     "base_uri": "https://localhost:8080/"
    },
    "id": "iP6xEkcSzX-N",
    "outputId": "3728a0e9-7886-4379-f199-accfd6078654"
   },
   "outputs": [
    {
     "name": "stdout",
     "output_type": "stream",
     "text": [
      "[2.8174609999999998 2.7353515 2.851133 2.9097265 ... 7.9125 8.275 7.955 8.695]\n"
     ]
    }
   ],
   "source": [
    "print(preds)"
   ]
  },
  {
   "cell_type": "markdown",
   "metadata": {
    "id": "Okbs-nILP2FD"
   },
   "source": [
    "### Prophet"
   ]
  },
  {
   "cell_type": "code",
   "execution_count": 96,
   "metadata": {
    "id": "SMV8Ky8kP2FE"
   },
   "outputs": [],
   "source": [
    "#importing prophet\n",
    "from fbprophet import Prophet"
   ]
  },
  {
   "cell_type": "code",
   "execution_count": 98,
   "metadata": {
    "id": "6iHRLW6KP2FE"
   },
   "outputs": [],
   "source": [
    "# Read the file\n",
    "\n",
    "df=pd.read_csv(\"/content/INFY NSQ.csv\")"
   ]
  },
  {
   "cell_type": "code",
   "execution_count": 99,
   "metadata": {
    "id": "QxNEhfbPP2FE"
   },
   "outputs": [],
   "source": [
    "data = df.sort_index(ascending=True, axis=0)"
   ]
  },
  {
   "cell_type": "code",
   "execution_count": 100,
   "metadata": {
    "id": "8ilDjikXP2FE"
   },
   "outputs": [],
   "source": [
    "#creating dataframe\n",
    "new_data = pd.DataFrame(index=range(0,len(df)),columns=['Date', 'Close'])\n",
    "for i in range(0,len(data)):\n",
    "    new_data['Date'][i] = data['Date'][i]\n",
    "    new_data['Close'][i] = data['Close'][i]"
   ]
  },
  {
   "cell_type": "code",
   "execution_count": 101,
   "metadata": {
    "id": "bGcrU3E-P2FF"
   },
   "outputs": [],
   "source": [
    "new_data['Date'] = pd.to_datetime(new_data.Date,format='%Y-%m-%d')\n",
    "new_data.index = new_data['Date']"
   ]
  },
  {
   "cell_type": "code",
   "execution_count": 102,
   "metadata": {
    "id": "-_A92EuoP2FF"
   },
   "outputs": [],
   "source": [
    "#preparing data\n",
    "new_data.rename(columns={'Close': 'y', 'Date': 'ds'}, inplace=True)"
   ]
  },
  {
   "cell_type": "code",
   "execution_count": 103,
   "metadata": {
    "id": "s8y2s67oP2FF"
   },
   "outputs": [],
   "source": [
    "new_data = new_data.dropna()"
   ]
  },
  {
   "cell_type": "code",
   "execution_count": null,
   "metadata": {
    "id": "0TVNljlOP2FF"
   },
   "outputs": [],
   "source": [
    "train_len = round(0.8 * new_data.shape[0])"
   ]
  },
  {
   "cell_type": "code",
   "execution_count": 104,
   "metadata": {
    "id": "sz-t66JBP2FG"
   },
   "outputs": [],
   "source": [
    "#train and validation\n",
    "train = new_data[:train_len]\n",
    "valid = new_data[train_len:]"
   ]
  },
  {
   "cell_type": "code",
   "execution_count": 106,
   "metadata": {
    "colab": {
     "base_uri": "https://localhost:8080/",
     "height": 235
    },
    "id": "XXVJDfgVP2FG",
    "outputId": "97665575-963d-46ff-87d6-0a97be757ce7"
   },
   "outputs": [
    {
     "data": {
      "text/html": [
       "<div>\n",
       "<style scoped>\n",
       "    .dataframe tbody tr th:only-of-type {\n",
       "        vertical-align: middle;\n",
       "    }\n",
       "\n",
       "    .dataframe tbody tr th {\n",
       "        vertical-align: top;\n",
       "    }\n",
       "\n",
       "    .dataframe thead th {\n",
       "        text-align: right;\n",
       "    }\n",
       "</style>\n",
       "<table border=\"1\" class=\"dataframe\">\n",
       "  <thead>\n",
       "    <tr style=\"text-align: right;\">\n",
       "      <th></th>\n",
       "      <th>ds</th>\n",
       "      <th>y</th>\n",
       "    </tr>\n",
       "    <tr>\n",
       "      <th>Date</th>\n",
       "      <th></th>\n",
       "      <th></th>\n",
       "    </tr>\n",
       "  </thead>\n",
       "  <tbody>\n",
       "    <tr>\n",
       "      <th>2017-01-17</th>\n",
       "      <td>2017-01-17</td>\n",
       "      <td>7.245</td>\n",
       "    </tr>\n",
       "    <tr>\n",
       "      <th>2017-01-18</th>\n",
       "      <td>2017-01-18</td>\n",
       "      <td>7.22</td>\n",
       "    </tr>\n",
       "    <tr>\n",
       "      <th>2017-01-19</th>\n",
       "      <td>2017-01-19</td>\n",
       "      <td>7.195</td>\n",
       "    </tr>\n",
       "    <tr>\n",
       "      <th>2017-01-20</th>\n",
       "      <td>2017-01-20</td>\n",
       "      <td>7.18</td>\n",
       "    </tr>\n",
       "    <tr>\n",
       "      <th>2017-01-23</th>\n",
       "      <td>2017-01-23</td>\n",
       "      <td>7.045</td>\n",
       "    </tr>\n",
       "  </tbody>\n",
       "</table>\n",
       "</div>"
      ],
      "text/plain": [
       "                   ds      y\n",
       "Date                        \n",
       "2017-01-17 2017-01-17  7.245\n",
       "2017-01-18 2017-01-18   7.22\n",
       "2017-01-19 2017-01-19  7.195\n",
       "2017-01-20 2017-01-20   7.18\n",
       "2017-01-23 2017-01-23  7.045"
      ]
     },
     "execution_count": 106,
     "metadata": {
      "tags": []
     },
     "output_type": "execute_result"
    }
   ],
   "source": [
    "valid.head()"
   ]
  },
  {
   "cell_type": "code",
   "execution_count": 107,
   "metadata": {
    "colab": {
     "base_uri": "https://localhost:8080/"
    },
    "id": "RkVTZ1XSP2FG",
    "outputId": "4e7cb02e-8822-4d8f-980a-b344ec115928"
   },
   "outputs": [
    {
     "name": "stderr",
     "output_type": "stream",
     "text": [
      "INFO:fbprophet:Disabling daily seasonality. Run prophet with daily_seasonality=True to override this.\n"
     ]
    },
    {
     "data": {
      "text/plain": [
       "<fbprophet.forecaster.Prophet at 0x7f1aff57a3c8>"
      ]
     },
     "execution_count": 107,
     "metadata": {
      "tags": []
     },
     "output_type": "execute_result"
    }
   ],
   "source": [
    "#fit the model\n",
    "model = Prophet()\n",
    "model.fit(train)"
   ]
  },
  {
   "cell_type": "code",
   "execution_count": 108,
   "metadata": {
    "id": "fenz0hesP2FG"
   },
   "outputs": [],
   "source": [
    "#predictions\n",
    "close_prices = model.make_future_dataframe(periods=len(valid))\n",
    "forecast = model.predict(close_prices)"
   ]
  },
  {
   "cell_type": "code",
   "execution_count": 109,
   "metadata": {
    "colab": {
     "base_uri": "https://localhost:8080/"
    },
    "id": "cKQCchySP2FH",
    "outputId": "5542898c-9472-4f77-da4a-0854608d24c0"
   },
   "outputs": [
    {
     "data": {
      "text/plain": [
       "1.8844396476432457"
      ]
     },
     "execution_count": 109,
     "metadata": {
      "tags": []
     },
     "output_type": "execute_result"
    }
   ],
   "source": [
    "#rmse\n",
    "forecast_valid = forecast['yhat'][train_len:]\n",
    "rms=np.sqrt(np.mean(np.power((np.array(valid['y'])-np.array(forecast_valid)),2)))\n",
    "rms"
   ]
  },
  {
   "cell_type": "code",
   "execution_count": 110,
   "metadata": {
    "colab": {
     "base_uri": "https://localhost:8080/",
     "height": 811
    },
    "id": "uPxKhlEfP2FH",
    "outputId": "5196250f-fc06-4920-d08e-b54275169d51"
   },
   "outputs": [
    {
     "name": "stderr",
     "output_type": "stream",
     "text": [
      "/usr/local/lib/python3.6/dist-packages/ipykernel_launcher.py:2: SettingWithCopyWarning:\n",
      "\n",
      "\n",
      "A value is trying to be set on a copy of a slice from a DataFrame.\n",
      "Try using .loc[row_indexer,col_indexer] = value instead\n",
      "\n",
      "See the caveats in the documentation: https://pandas.pydata.org/pandas-docs/stable/user_guide/indexing.html#returning-a-view-versus-a-copy\n",
      "\n",
      "/usr/local/lib/python3.6/dist-packages/ipykernel_launcher.py:3: SettingWithCopyWarning:\n",
      "\n",
      "\n",
      "A value is trying to be set on a copy of a slice from a DataFrame.\n",
      "Try using .loc[row_indexer,col_indexer] = value instead\n",
      "\n",
      "See the caveats in the documentation: https://pandas.pydata.org/pandas-docs/stable/user_guide/indexing.html#returning-a-view-versus-a-copy\n",
      "\n"
     ]
    },
    {
     "data": {
      "text/plain": [
       "[<matplotlib.lines.Line2D at 0x7f1b0019eb38>,\n",
       " <matplotlib.lines.Line2D at 0x7f1aff67e518>]"
      ]
     },
     "execution_count": 110,
     "metadata": {
      "tags": []
     },
     "output_type": "execute_result"
    },
    {
     "data": {
      "image/png": "[encoded data removed]",
      "text/plain": [
       "<Figure size 1440x720 with 1 Axes>"
      ]
     },
     "metadata": {
      "needs_background": "light",
      "tags": []
     },
     "output_type": "display_data"
    }
   ],
   "source": [
    "#plot\n",
    "valid['Predictions'] = 0\n",
    "valid['Predictions'] = forecast_valid.values\n",
    "\n",
    "plt.plot(train['y'])\n",
    "plt.plot(valid[['y', 'Predictions']])\n"
   ]
  },
  {
   "cell_type": "code",
   "execution_count": 112,
   "metadata": {
    "colab": {
     "base_uri": "https://localhost:8080/"
    },
    "id": "Dz5oPIwbP2FI",
    "outputId": "81d56e69-a0a8-47b0-9856-e939af652170"
   },
   "outputs": [
    {
     "name": "stdout",
     "output_type": "stream",
     "text": [
      "[ 9.410915  9.421397  9.312329  9.322762 ... 10.954159 10.968137 10.968992 11.099298]\n"
     ]
    }
   ],
   "source": [
    "print(forecast_valid.values)"
   ]
  },
  {
   "cell_type": "markdown",
   "metadata": {
    "id": "QzSOrTfcP2FR"
   },
   "source": [
    "#Inference\n",
    "#Linear regression is a simple technique and quite easy to interpret, but there are a few obvious disadvantages. \n",
    "#One problem in using regression algorithms is that the model overfits to the date and month column.\n",
    "#Instead of taking into account the previous values from the point of prediction,\n",
    "#the model will consider the value from the same date a month ago, or the same date/month a year ago.\n"
   ]
  }
 ],
 "metadata": {
  "colab": {
   "collapsed_sections": [
    "0utlXqzJP2FJ",
    "QzSOrTfcP2FR"
   ],
   "include_colab_link": true,
   "name": "Stock price prediction - Infy Updated.ipynb",
   "provenance": []
  },
  "kernelspec": {
   "display_name": "Python 3 (ipykernel)",
   "language": "python",
   "name": "python3"
  },
  "language_info": {
   "codemirror_mode": {
    "name": "ipython",
    "version": 3
   },
   "file_extension": ".py",
   "mimetype": "text/x-python",
   "name": "python",
   "nbconvert_exporter": "python",
   "pygments_lexer": "ipython3",
   "version": "3.10.2"
  }
 },
 "nbformat": 4,
 "nbformat_minor": 1
}
